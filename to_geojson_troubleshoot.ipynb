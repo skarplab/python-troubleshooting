{
 "cells": [
  {
   "cell_type": "markdown",
   "metadata": {},
   "source": [
    "# Troubleshooting `to_geojson` method in ArcGIS Python API\n",
    "\n",
    "The purpose of this notebook is to document a potential bug with the `to_geojson` method in the ArcGIS Python API. This sprang about when I was attempting to create a workflow to pull data from AGOL and add it to a table in PostGIS. I got some weird errors with the Greenway Trails dataset. When I'd go to insert the GeoJSON data into PostGIS, I'd get an error about 3D features. However, when examining the GeoJSON it appeared that there were no 3D features. Curious. After some more poking around, I discovered that LineString geometry types were being formatted as if they were MultiLineString. That's not necessarily bad, but the `type` property for the geometry remained `LineString`. When I manually changed all the `LineString` values to `MultiLineString`, I was able to insert the data properly into PostGIS.\n",
    "\n",
    "This notebook is meant to generally examine the `to_geojson` method on some test, single-part geometry datasets and determine if there is a potential bug."
   ]
  },
  {
   "cell_type": "code",
   "execution_count": 1,
   "metadata": {},
   "outputs": [],
   "source": [
    "import json\n",
    "import copy\n",
    "\n",
    "from arcgis.gis import GIS\n",
    "from arcgis import features\n",
    "from arcgis import geometry\n",
    "from IPython.display import display\n",
    "\n",
    "import geojson\n",
    "import folium\n",
    "import pprint"
   ]
  },
  {
   "cell_type": "markdown",
   "metadata": {},
   "source": [
    "## Helper Functions and Variables"
   ]
  },
  {
   "cell_type": "code",
   "execution_count": 2,
   "metadata": {},
   "outputs": [],
   "source": [
    "def agol_feature_layer(gis, item_id, layer):\n",
    "    \"\"\"Get a feature layer by its item ID\n",
    "    \n",
    "    Parameters\n",
    "    ----------\n",
    "    gis : obj\n",
    "        A GIS object from the ArcGIS Python API\n",
    "    item_id : str\n",
    "        ArcGIS Online item id\n",
    "    layer : int\n",
    "        Layer number in item\n",
    "        \n",
    "    Returns\n",
    "    -------\n",
    "    A single layer within a feature layer\n",
    "    \n",
    "    Requires\n",
    "    --------\n",
    "    arcgis\n",
    "        ArcGIS Python API\n",
    "    \"\"\"\n",
    "    item = gis.content.search(item_id, item_type = \"Feature Layer\")\n",
    "    return item[layer]"
   ]
  },
  {
   "cell_type": "code",
   "execution_count": 3,
   "metadata": {},
   "outputs": [],
   "source": [
    "def agol_layer_to_geojson(gis, item_id, layer, out_sr = 4326):\n",
    "    \"\"\"Return a layer on AGOL as GeoJSON\n",
    "    \n",
    "    Parameters\n",
    "    ----------\n",
    "    gis : obj\n",
    "        A GIS object from the ArcGIS Python API\n",
    "    item_id : str\n",
    "        ArcGIS Online item id\n",
    "    layer : int\n",
    "        Layer number in item\n",
    "    out_sr : int\n",
    "        Output spatial reference (The default is 4326 which is the EPSG code for WGS84. According to the spec, this is the only coordinate reference system you should use with GeoJSON, but technically you can use others)\n",
    "        \n",
    "    Returns\n",
    "    -------\n",
    "    geojson.feature.FeatureCollection\n",
    "        A GeoJSON representation of the layer from ArcGIS Online\n",
    "        \n",
    "    Requires\n",
    "    --------\n",
    "    arcgis\n",
    "        ArcGIS Python API\n",
    "    geojson\n",
    "        python-geojson\n",
    "    \"\"\"\n",
    "    item = gis.content.get(item_id)\n",
    "    feature_layer = item.layers[layer]\n",
    "    feature_set = feature_layer.query(out_sr = out_sr)\n",
    "    return geojson.loads(feature_set.to_geojson)"
   ]
  },
  {
   "cell_type": "code",
   "execution_count": 4,
   "metadata": {},
   "outputs": [],
   "source": [
    "def geojson_validity(data):\n",
    "    if data.is_valid is False:\n",
    "        return data.errors()\n",
    "    else:\n",
    "        return True"
   ]
  },
  {
   "cell_type": "code",
   "execution_count": 5,
   "metadata": {},
   "outputs": [],
   "source": [
    "test_items = {\n",
    "    'line': 'd2fc5983dbdd4aa38242d05354c2b853',\n",
    "    'point': '161925e18a354cafabd1ee8768869adf',\n",
    "    'polygon': 'aa1c7b4d7aa348edade07d24ec118794'\n",
    "}"
   ]
  },
  {
   "cell_type": "code",
   "execution_count": 6,
   "metadata": {},
   "outputs": [],
   "source": [
    "gis = GIS()"
   ]
  },
  {
   "cell_type": "markdown",
   "metadata": {},
   "source": [
    "## Mapping data from AGOL\n",
    "\n",
    "First I just want to show that these layers can be mapped directly from AGOL using the ArcGIS Python API."
   ]
  },
  {
   "cell_type": "code",
   "execution_count": 7,
   "metadata": {},
   "outputs": [
    {
     "data": {
      "application/vnd.jupyter.widget-view+json": {
       "model_id": "75065a0daafa45a6930539d45e01f989",
       "version_major": 2,
       "version_minor": 0
      },
      "text/plain": [
       "MapView(layout=Layout(height='400px', width='100%'), zoom=9.0)"
      ]
     },
     "metadata": {},
     "output_type": "display_data"
    },
    {
     "data": {
      "text/html": [
       "<div class=\"map-static-img-preview-5f31a906-00f3-4b4b-931d-51ec142a51d9\"><img src=\"\"></img></div>"
      ],
      "text/plain": [
       "<IPython.core.display.HTML object>"
      ]
     },
     "metadata": {},
     "output_type": "display_data"
    }
   ],
   "source": [
    "agol_map = gis.map('Raleigh, NC', zoomlevel = 9)\n",
    "\n",
    "for k, v in test_items.items():\n",
    "    agol_map.add_layer(agol_feature_layer(gis, v, 0))\n",
    "\n",
    "agol_map"
   ]
  },
  {
   "cell_type": "markdown",
   "metadata": {},
   "source": [
    "OK, so that works without issue. But when using the `to_geojson` method, things are a bit different. So we'll try something similar to above but use folium as the mapping library and the `to_geojson` method as a means of getting data to add to the map."
   ]
  },
  {
   "cell_type": "code",
   "execution_count": 8,
   "metadata": {},
   "outputs": [
    {
     "data": {
      "text/html": [
       "<div style=\"width:100%;\"><div style=\"position:relative;width:100%;height:0;padding-bottom:60%;\"><iframe src=\"data:text/html;charset=utf-8;base64,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\" style=\"position:absolute;width:100%;height:100%;left:0;top:0;border:none !important;\" allowfullscreen webkitallowfullscreen mozallowfullscreen></iframe></div></div>"
      ],
      "text/plain": [
       "<folium.folium.Map at 0x28b04b50358>"
      ]
     },
     "execution_count": 8,
     "metadata": {},
     "output_type": "execute_result"
    }
   ],
   "source": [
    "geojson_map1 = folium.Map([35.779591, -78.638176], zoom_start = 11)\n",
    "\n",
    "for k, v in test_items.items():\n",
    "    folium.GeoJson(agol_layer_to_geojson(gis, v, 0)).add_to(geojson_map1)\n",
    "\n",
    "geojson_map1"
   ]
  },
  {
   "cell_type": "markdown",
   "metadata": {},
   "source": [
    "So nothing shows up...Need to see if this is my error or something else. We'll look at each layer in isolation."
   ]
  },
  {
   "cell_type": "markdown",
   "metadata": {},
   "source": [
    "### Polygon Only"
   ]
  },
  {
   "cell_type": "code",
   "execution_count": 9,
   "metadata": {},
   "outputs": [
    {
     "data": {
      "text/html": [
       "<div style=\"width:100%;\"><div style=\"position:relative;width:100%;height:0;padding-bottom:60%;\"><iframe src=\"data:text/html;charset=utf-8;base64,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\" style=\"position:absolute;width:100%;height:100%;left:0;top:0;border:none !important;\" allowfullscreen webkitallowfullscreen mozallowfullscreen></iframe></div></div>"
      ],
      "text/plain": [
       "<folium.folium.Map at 0x28b04b58668>"
      ]
     },
     "execution_count": 9,
     "metadata": {},
     "output_type": "execute_result"
    }
   ],
   "source": [
    "geojson_map_poly_only = folium.Map([35.779591, -78.638176], zoom_start = 11)\n",
    "folium.GeoJson(agol_layer_to_geojson(gis, test_items['polygon'], 0)).add_to(geojson_map_poly_only)\n",
    "geojson_map_poly_only"
   ]
  },
  {
   "cell_type": "markdown",
   "metadata": {},
   "source": [
    "### Point Only"
   ]
  },
  {
   "cell_type": "code",
   "execution_count": 10,
   "metadata": {},
   "outputs": [
    {
     "data": {
      "text/html": [
       "<div style=\"width:100%;\"><div style=\"position:relative;width:100%;height:0;padding-bottom:60%;\"><iframe src=\"data:text/html;charset=utf-8;base64,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\" style=\"position:absolute;width:100%;height:100%;left:0;top:0;border:none !important;\" allowfullscreen webkitallowfullscreen mozallowfullscreen></iframe></div></div>"
      ],
      "text/plain": [
       "<folium.folium.Map at 0x28b04b58080>"
      ]
     },
     "execution_count": 10,
     "metadata": {},
     "output_type": "execute_result"
    }
   ],
   "source": [
    "geojson_map_pt_only = folium.Map([35.779591, -78.638176], zoom_start = 11)\n",
    "folium.GeoJson(agol_layer_to_geojson(gis, test_items['point'], 0)).add_to(geojson_map_pt_only)\n",
    "geojson_map_pt_only"
   ]
  },
  {
   "cell_type": "markdown",
   "metadata": {},
   "source": [
    "### Line Only"
   ]
  },
  {
   "cell_type": "code",
   "execution_count": 11,
   "metadata": {},
   "outputs": [
    {
     "data": {
      "text/html": [
       "<div style=\"width:100%;\"><div style=\"position:relative;width:100%;height:0;padding-bottom:60%;\"><iframe src=\"data:text/html;charset=utf-8;base64,PCFET0NUWVBFIGh0bWw+CjxoZWFkPiAgICAKICAgIDxtZXRhIGh0dHAtZXF1aXY9ImNvbnRlbnQtdHlwZSIgY29udGVudD0idGV4dC9odG1sOyBjaGFyc2V0PVVURi04IiAvPgogICAgPHNjcmlwdD5MX1BSRUZFUl9DQU5WQVM9ZmFsc2U7IExfTk9fVE9VQ0g9ZmFsc2U7IExfRElTQUJMRV8zRD1mYWxzZTs8L3NjcmlwdD4KICAgIDxzY3JpcHQgc3JjPSJodHRwczovL2Nkbi5qc2RlbGl2ci5uZXQvbnBtL2xlYWZsZXRAMS4zLjQvZGlzdC9sZWFmbGV0LmpzIj48L3NjcmlwdD4KICAgIDxzY3JpcHQgc3JjPSJodHRwczovL2FqYXguZ29vZ2xlYXBpcy5jb20vYWpheC9saWJzL2pxdWVyeS8xLjExLjEvanF1ZXJ5Lm1pbi5qcyI+PC9zY3JpcHQ+CiAgICA8c2NyaXB0IHNyYz0iaHR0cHM6Ly9tYXhjZG4uYm9vdHN0cmFwY2RuLmNvbS9ib290c3RyYXAvMy4yLjAvanMvYm9vdHN0cmFwLm1pbi5qcyI+PC9zY3JpcHQ+CiAgICA8c2NyaXB0IHNyYz0iaHR0cHM6Ly9jZG5qcy5jbG91ZGZsYXJlLmNvbS9hamF4L2xpYnMvTGVhZmxldC5hd2Vzb21lLW1hcmtlcnMvMi4wLjIvbGVhZmxldC5hd2Vzb21lLW1hcmtlcnMuanMiPjwvc2NyaXB0PgogICAgPGxpbmsgcmVsPSJzdHlsZXNoZWV0IiBocmVmPSJodHRwczovL2Nkbi5qc2RlbGl2ci5uZXQvbnBtL2xlYWZsZXRAMS4zLjQvZGlzdC9sZWFmbGV0LmNzcyIvPgogICAgPGxpbmsgcmVsPSJzdHlsZXNoZWV0IiBocmVmPSJodHRwczovL21heGNkbi5ib290c3RyYXBjZG4uY29tL2Jvb3RzdHJhcC8zLjIuMC9jc3MvYm9vdHN0cmFwLm1pbi5jc3MiLz4KICAgIDxsaW5rIHJlbD0ic3R5bGVzaGVldCIgaHJlZj0iaHR0cHM6Ly9tYXhjZG4uYm9vdHN0cmFwY2RuLmNvbS9ib290c3RyYXAvMy4yLjAvY3NzL2Jvb3RzdHJhcC10aGVtZS5taW4uY3NzIi8+CiAgICA8bGluayByZWw9InN0eWxlc2hlZXQiIGhyZWY9Imh0dHBzOi8vbWF4Y2RuLmJvb3RzdHJhcGNkbi5jb20vZm9udC1hd2Vzb21lLzQuNi4zL2Nzcy9mb250LWF3ZXNvbWUubWluLmNzcyIvPgogICAgPGxpbmsgcmVsPSJzdHlsZXNoZWV0IiBocmVmPSJodHRwczovL2NkbmpzLmNsb3VkZmxhcmUuY29tL2FqYXgvbGlicy9MZWFmbGV0LmF3ZXNvbWUtbWFya2Vycy8yLjAuMi9sZWFmbGV0LmF3ZXNvbWUtbWFya2Vycy5jc3MiLz4KICAgIDxsaW5rIHJlbD0ic3R5bGVzaGVldCIgaHJlZj0iaHR0cHM6Ly9yYXdjZG4uZ2l0aGFjay5jb20vcHl0aG9uLXZpc3VhbGl6YXRpb24vZm9saXVtL21hc3Rlci9mb2xpdW0vdGVtcGxhdGVzL2xlYWZsZXQuYXdlc29tZS5yb3RhdGUuY3NzIi8+CiAgICA8c3R5bGU+aHRtbCwgYm9keSB7d2lkdGg6IDEwMCU7aGVpZ2h0OiAxMDAlO21hcmdpbjogMDtwYWRkaW5nOiAwO308L3N0eWxlPgogICAgPHN0eWxlPiNtYXAge3Bvc2l0aW9uOmFic29sdXRlO3RvcDowO2JvdHRvbTowO3JpZ2h0OjA7bGVmdDowO308L3N0eWxlPgogICAgCiAgICA8bWV0YSBuYW1lPSJ2aWV3cG9ydCIgY29udGVudD0id2lkdGg9ZGV2aWNlLXdpZHRoLAogICAgICAgIGluaXRpYWwtc2NhbGU9MS4wLCBtYXhpbXVtLXNjYWxlPTEuMCwgdXNlci1zY2FsYWJsZT1ubyIgLz4KICAgIDxzdHlsZT4jbWFwX2NkNTI2NjlmZWQ5ZTRlZWZiYWU1YjNjYTYyZjc5YjNhIHsKICAgICAgICBwb3NpdGlvbjogcmVsYXRpdmU7CiAgICAgICAgd2lkdGg6IDEwMC4wJTsKICAgICAgICBoZWlnaHQ6IDEwMC4wJTsKICAgICAgICBsZWZ0OiAwLjAlOwogICAgICAgIHRvcDogMC4wJTsKICAgICAgICB9CiAgICA8L3N0eWxlPgo8L2hlYWQ+Cjxib2R5PiAgICAKICAgIAogICAgPGRpdiBjbGFzcz0iZm9saXVtLW1hcCIgaWQ9Im1hcF9jZDUyNjY5ZmVkOWU0ZWVmYmFlNWIzY2E2MmY3OWIzYSIgPjwvZGl2Pgo8L2JvZHk+CjxzY3JpcHQ+ICAgIAogICAgCiAgICAKICAgICAgICB2YXIgYm91bmRzID0gbnVsbDsKICAgIAoKICAgIHZhciBtYXBfY2Q1MjY2OWZlZDllNGVlZmJhZTViM2NhNjJmNzliM2EgPSBMLm1hcCgKICAgICAgICAnbWFwX2NkNTI2NjlmZWQ5ZTRlZWZiYWU1YjNjYTYyZjc5YjNhJywgewogICAgICAgIGNlbnRlcjogWzM1Ljc3OTU5MSwgLTc4LjYzODE3Nl0sCiAgICAgICAgem9vbTogMTEsCiAgICAgICAgbWF4Qm91bmRzOiBib3VuZHMsCiAgICAgICAgbGF5ZXJzOiBbXSwKICAgICAgICB3b3JsZENvcHlKdW1wOiBmYWxzZSwKICAgICAgICBjcnM6IEwuQ1JTLkVQU0czODU3LAogICAgICAgIHpvb21Db250cm9sOiB0cnVlLAogICAgICAgIH0pOwoKICAgIAogICAgCiAgICB2YXIgdGlsZV9sYXllcl9hOTczNGViNzFmMjI0ZTQwYmQ2NTE2ZmJkOGIxNzM0YiA9IEwudGlsZUxheWVyKAogICAgICAgICdodHRwczovL3tzfS50aWxlLm9wZW5zdHJlZXRtYXAub3JnL3t6fS97eH0ve3l9LnBuZycsCiAgICAgICAgewogICAgICAgICJhdHRyaWJ1dGlvbiI6IG51bGwsCiAgICAgICAgImRldGVjdFJldGluYSI6IGZhbHNlLAogICAgICAgICJtYXhOYXRpdmVab29tIjogMTgsCiAgICAgICAgIm1heFpvb20iOiAxOCwKICAgICAgICAibWluWm9vbSI6IDAsCiAgICAgICAgIm5vV3JhcCI6IGZhbHNlLAogICAgICAgICJvcGFjaXR5IjogMSwKICAgICAgICAic3ViZG9tYWlucyI6ICJhYmMiLAogICAgICAgICJ0bXMiOiBmYWxzZQp9KS5hZGRUbyhtYXBfY2Q1MjY2OWZlZDllNGVlZmJhZTViM2NhNjJmNzliM2EpOwogICAgCiAgICAgICAgCiAgICAgICAgdmFyIGdlb19qc29uXzNjMDZkODY5ZTMyOTRmMDJhMThkZDFjMjUzYmFiODNjID0gTC5nZW9Kc29uKAogICAgICAgICAgICB7ImZlYXR1cmVzIjogW3siZ2VvbWV0cnkiOiB7ImNvb3JkaW5hdGVzIjogW1tbLTc4LjgyNzE4ODI0NzQxNjIsIDM1Ljg3MDAwMDQwMTI5NDddLCBbLTc4Ljc5MDc5NjAzNTUwMjIsIDM1Ljg0NDQwMDg0NzAyMDldLCBbLTc4Ljc1MDk3MDU5NjA0OTEsIDM1LjgyNjAzMDg1NzYyMzVdLCBbLTc4LjczNTg2NDM5NDg3NzIsIDM1LjgxNDg5NTQ2MDg1NTZdLCBbLTc4LjcwMjkwNTQxMDUwMjMsIDM1LjgwMzIwMTYxMzI0MzJdLCBbLTc4LjY4OTE3MjUwMDM0NjEsIDM1LjgwMzc1ODUwMjE3MzldLCBbLTc4LjY1NDg0MDIyNDk1NTUsIDM1LjgwOTMyNzE3Njc0MTNdLCBbLTc4LjYyODA2MTA1MDE1MDgsIDM1LjgxOTkwNjU4MjddLCBbLTc4LjYxNjM4ODA3NjUxOCwgMzUuODI2NTg3NTg2NDU4XV1dLCAidHlwZSI6ICJMaW5lU3RyaW5nIn0sICJwcm9wZXJ0aWVzIjogeyJPQkpFQ1RJRCI6IDIsICJTaGFwZV9fTGVuZ3RoIjogMC4yMzI4NTkwMTk0MDY5NjksICJoaWdobGlnaHQiOiB7fSwgImlkIjogMSwgInN0eWxlIjoge319LCAidHlwZSI6ICJGZWF0dXJlIn0sIHsiZ2VvbWV0cnkiOiB7ImNvb3JkaW5hdGVzIjogW1tbLTc4LjY3NjEyNjIzNTY5NzYsIDM1LjkwMjgyMjUwOTEwMzJdLCBbLTc4LjczMTc0NDUyMTgzMDQsIDM1Ljg2NDk5MjQ0MzMzNF0sIFstNzguNjkxOTE5MDgyMzc3MywgMzUuODUwNTIzMjMxNTg0MV1dXSwgInR5cGUiOiAiTGluZVN0cmluZyJ9LCAicHJvcGVydGllcyI6IHsiT0JKRUNUSUQiOiAzLCAiU2hhcGVfX0xlbmd0aCI6IDAuMTA5NjM2OTAwODk0NzgyLCAiaGlnaGxpZ2h0Ijoge30sICJpZCI6IG51bGwsICJzdHlsZSI6IHt9fSwgInR5cGUiOiAiRmVhdHVyZSJ9XSwgInR5cGUiOiAiRmVhdHVyZUNvbGxlY3Rpb24ifQogICAgICAgICAgICAKICAgICAgICAgICAgKS5hZGRUbyhtYXBfY2Q1MjY2OWZlZDllNGVlZmJhZTViM2NhNjJmNzliM2EpOwogICAgICAgIGdlb19qc29uXzNjMDZkODY5ZTMyOTRmMDJhMThkZDFjMjUzYmFiODNjLnNldFN0eWxlKGZ1bmN0aW9uKGZlYXR1cmUpIHtyZXR1cm4gZmVhdHVyZS5wcm9wZXJ0aWVzLnN0eWxlO30pOwogICAgICAgIAo8L3NjcmlwdD4=\" style=\"position:absolute;width:100%;height:100%;left:0;top:0;border:none !important;\" allowfullscreen webkitallowfullscreen mozallowfullscreen></iframe></div></div>"
      ],
      "text/plain": [
       "<folium.folium.Map at 0x28b0456a9b0>"
      ]
     },
     "execution_count": 11,
     "metadata": {},
     "output_type": "execute_result"
    }
   ],
   "source": [
    "geojson_map_line_only = folium.Map([35.779591, -78.638176], zoom_start = 11)\n",
    "folium.GeoJson(agol_layer_to_geojson(gis, test_items['line'], 0)).add_to(geojson_map_line_only)\n",
    "geojson_map_line_only"
   ]
  },
  {
   "cell_type": "markdown",
   "metadata": {},
   "source": [
    "So it looks like the line data is the culprit. Let's make sure it's not a folium thing by trying to add the polygon and point layers only to the same map."
   ]
  },
  {
   "cell_type": "code",
   "execution_count": 12,
   "metadata": {},
   "outputs": [
    {
     "data": {
      "text/html": [
       "<div style=\"width:100%;\"><div style=\"position:relative;width:100%;height:0;padding-bottom:60%;\"><iframe src=\"data:text/html;charset=utf-8;base64,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\" style=\"position:absolute;width:100%;height:100%;left:0;top:0;border:none !important;\" allowfullscreen webkitallowfullscreen mozallowfullscreen></iframe></div></div>"
      ],
      "text/plain": [
       "<folium.folium.Map at 0x28b04a63ba8>"
      ]
     },
     "execution_count": 12,
     "metadata": {},
     "output_type": "execute_result"
    }
   ],
   "source": [
    "geojson_map_pt_poly = folium.Map([35.779591, -78.638176], zoom_start = 11)\n",
    "\n",
    "for k, v in test_items.items():\n",
    "    if k != 'line':\n",
    "        folium.GeoJson(agol_layer_to_geojson(gis, v, 0)).add_to(geojson_map_pt_poly)\n",
    "\n",
    "geojson_map_pt_poly"
   ]
  },
  {
   "cell_type": "markdown",
   "metadata": {},
   "source": [
    "Indeed, it looks like there is an issue with the line data. The single-part points and polygons are showing up just fine."
   ]
  },
  {
   "cell_type": "markdown",
   "metadata": {},
   "source": [
    "# Examining the Line data\n",
    "\n",
    "So what ways can we make the line GeoJSON valid? Let's take a closer look. We can use `geojson` to help test for validity of the Line GeoJSON and hopefully repair so that it is valid according to the GeoJSON spec."
   ]
  },
  {
   "cell_type": "code",
   "execution_count": 13,
   "metadata": {},
   "outputs": [
    {
     "name": "stdout",
     "output_type": "stream",
     "text": [
      "{'features': [{'geometry': {'coordinates': [[[-78.8271882474162,\n",
      "                                              35.8700004012947],\n",
      "                                             [-78.7907960355022,\n",
      "                                              35.8444008470209],\n",
      "                                             [-78.7509705960491,\n",
      "                                              35.8260308576235],\n",
      "                                             [-78.7358643948772,\n",
      "                                              35.8148954608556],\n",
      "                                             [-78.7029054105023,\n",
      "                                              35.8032016132432],\n",
      "                                             [-78.6891725003461,\n",
      "                                              35.8037585021739],\n",
      "                                             [-78.6548402249555,\n",
      "                                              35.8093271767413],\n",
      "                                             [-78.6280610501508, 35.8199065827],\n",
      "                                             [-78.616388076518,\n",
      "                                              35.826587586458]]],\n",
      "                            'type': 'LineString'},\n",
      "               'properties': {'OBJECTID': 2,\n",
      "                              'Shape__Length': 0.232859019406969,\n",
      "                              'id': 1},\n",
      "               'type': 'Feature'},\n",
      "              {'geometry': {'coordinates': [[[-78.6761262356976,\n",
      "                                              35.9028225091032],\n",
      "                                             [-78.7317445218304,\n",
      "                                              35.864992443334],\n",
      "                                             [-78.6919190823773,\n",
      "                                              35.8505232315841]]],\n",
      "                            'type': 'LineString'},\n",
      "               'properties': {'OBJECTID': 3,\n",
      "                              'Shape__Length': 0.109636900894782,\n",
      "                              'id': None},\n",
      "               'type': 'Feature'}],\n",
      " 'type': 'FeatureCollection'}\n"
     ]
    }
   ],
   "source": [
    "geojson_line = agol_layer_to_geojson(gis, test_items['line'], 0)\n",
    "pprint.pprint(geojson_line) # Does not produce valid GeoJSON because it uses single-quotes. Good for visual scanning though. Use geojson.dumps() to return GeoJSON."
   ]
  },
  {
   "cell_type": "markdown",
   "metadata": {},
   "source": [
    "Is this valid GeoJSON?"
   ]
  },
  {
   "cell_type": "code",
   "execution_count": 14,
   "metadata": {},
   "outputs": [
    {
     "name": "stdout",
     "output_type": "stream",
     "text": [
      "['the \"coordinates\" member must be an array of two or more positions',\n",
      " 'the \"coordinates\" member must be an array of two or more positions']\n"
     ]
    }
   ],
   "source": [
    "pprint.pprint(geojson_validity(geojson_line))"
   ]
  },
  {
   "cell_type": "markdown",
   "metadata": {},
   "source": [
    "It appears that there is an issue with the `\"coordinates\"` properties for each feature. It is expecting an array of two or more positions. However, each feature appears to have an array with another single array nested inside of it. Inside that array are several coordinate arrays.\n",
    "\n",
    "According to the GeoJSON spec on [LineString](https://tools.ietf.org/html/rfc7946#section-3.1.4) geometries:\n",
    "> For type \"LineString\", the \"coordinates\" member is an array of two or more positions.\n",
    "   \n",
    "It appears whatever we have here is not a valid array for a LineString geometry. What does the spec say about [MultiLineString](https://tools.ietf.org/html/rfc7946#section-3.1.5) geometries?\n",
    "\n",
    "> For type \"MultiLineString\", the \"coordinates\" member is an array of LineString coordinate arrays.\n",
    "\n",
    "Looking at the format of the line geometries, they appear to be formatted as MultiLineString geometries, but the `\"type\"` value is set to `\"LineString\"`. There appear to be a couple of options here. We could either change the `\"type\"` value to `\"MultiLineString\"` or make the `\"geometry\"` value a valid `LineString`. Let's explore both options."
   ]
  },
  {
   "cell_type": "markdown",
   "metadata": {},
   "source": [
    "#### Convert `\"type\"` to `\"MultiLineString\"`"
   ]
  },
  {
   "cell_type": "code",
   "execution_count": 15,
   "metadata": {},
   "outputs": [
    {
     "name": "stdout",
     "output_type": "stream",
     "text": [
      "{'features': [{'geometry': {'coordinates': [[[-78.8271882474162,\n",
      "                                              35.8700004012947],\n",
      "                                             [-78.7907960355022,\n",
      "                                              35.8444008470209],\n",
      "                                             [-78.7509705960491,\n",
      "                                              35.8260308576235],\n",
      "                                             [-78.7358643948772,\n",
      "                                              35.8148954608556],\n",
      "                                             [-78.7029054105023,\n",
      "                                              35.8032016132432],\n",
      "                                             [-78.6891725003461,\n",
      "                                              35.8037585021739],\n",
      "                                             [-78.6548402249555,\n",
      "                                              35.8093271767413],\n",
      "                                             [-78.6280610501508, 35.8199065827],\n",
      "                                             [-78.616388076518,\n",
      "                                              35.826587586458]]],\n",
      "                            'type': 'MultiLineString'},\n",
      "               'properties': {'OBJECTID': 2,\n",
      "                              'Shape__Length': 0.232859019406969,\n",
      "                              'id': 1},\n",
      "               'type': 'Feature'},\n",
      "              {'geometry': {'coordinates': [[[-78.6761262356976,\n",
      "                                              35.9028225091032],\n",
      "                                             [-78.7317445218304,\n",
      "                                              35.864992443334],\n",
      "                                             [-78.6919190823773,\n",
      "                                              35.8505232315841]]],\n",
      "                            'type': 'MultiLineString'},\n",
      "               'properties': {'OBJECTID': 3,\n",
      "                              'Shape__Length': 0.109636900894782,\n",
      "                              'id': None},\n",
      "               'type': 'Feature'}],\n",
      " 'type': 'FeatureCollection'}\n"
     ]
    }
   ],
   "source": [
    "geojson_multiline = copy.deepcopy(geojson_line)\n",
    "for f in geojson_multiline['features']:\n",
    "#     f['type'] = 'Feature'\n",
    "    f['geometry']['type'] = 'MultiLineString'\n",
    "    \n",
    "pprint.pprint(geojson_multiline)"
   ]
  },
  {
   "cell_type": "code",
   "execution_count": 16,
   "metadata": {},
   "outputs": [
    {
     "data": {
      "text/html": [
       "<div style=\"width:100%;\"><div style=\"position:relative;width:100%;height:0;padding-bottom:60%;\"><iframe src=\"data:text/html;charset=utf-8;base64,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\" style=\"position:absolute;width:100%;height:100%;left:0;top:0;border:none !important;\" allowfullscreen webkitallowfullscreen mozallowfullscreen></iframe></div></div>"
      ],
      "text/plain": [
       "<folium.folium.Map at 0x28b04b58518>"
      ]
     },
     "execution_count": 16,
     "metadata": {},
     "output_type": "execute_result"
    }
   ],
   "source": [
    "geojson_map_multiline = folium.Map([35.779591, -78.638176], zoom_start = 11)\n",
    "folium.GeoJson(geojson_multiline).add_to(geojson_map_multiline)\n",
    "geojson_map_multiline"
   ]
  },
  {
   "cell_type": "markdown",
   "metadata": {},
   "source": [
    "Great! The line data are on the map. It'd be nice to make sure this is valid GeoJSON."
   ]
  },
  {
   "cell_type": "code",
   "execution_count": 17,
   "metadata": {},
   "outputs": [
    {
     "name": "stdout",
     "output_type": "stream",
     "text": [
      "['the \"coordinates\" member must be an array of two or more positions',\n",
      " 'the \"coordinates\" member must be an array of two or more positions']\n"
     ]
    }
   ],
   "source": [
    "pprint.pprint(geojson_validity(geojson_multiline))"
   ]
  },
  {
   "cell_type": "markdown",
   "metadata": {},
   "source": [
    "It appears this is not technically valid GeoJSON. I believe this is a result of a very strict reading of the GeoJSON spec for MultiLineString geometries. Since each feature only contains a single coordinate array, there are not multiple parts to these features' geometries. Interestingly enough, I ran the GeoJSON of `geojson_multiline` through [GeoJSONLint](https://geojsonlint.com) and it considered the data valid.\n",
    "\n",
    "Can we get this data valid accoridng to this strict definition? Perhaps if we change the `\"type\"` value of the geometries to `\"LineString\"`, we will."
   ]
  },
  {
   "cell_type": "markdown",
   "metadata": {},
   "source": [
    "#### Repair formatting of LineString geometries"
   ]
  },
  {
   "cell_type": "code",
   "execution_count": 18,
   "metadata": {},
   "outputs": [
    {
     "name": "stdout",
     "output_type": "stream",
     "text": [
      "{'features': [{'geometry': {'coordinates': [[-78.8271882474162,\n",
      "                                             35.8700004012947],\n",
      "                                            [-78.7907960355022,\n",
      "                                             35.8444008470209],\n",
      "                                            [-78.7509705960491,\n",
      "                                             35.8260308576235],\n",
      "                                            [-78.7358643948772,\n",
      "                                             35.8148954608556],\n",
      "                                            [-78.7029054105023,\n",
      "                                             35.8032016132432],\n",
      "                                            [-78.6891725003461,\n",
      "                                             35.8037585021739],\n",
      "                                            [-78.6548402249555,\n",
      "                                             35.8093271767413],\n",
      "                                            [-78.6280610501508, 35.8199065827],\n",
      "                                            [-78.616388076518,\n",
      "                                             35.826587586458]],\n",
      "                            'type': 'LineString'},\n",
      "               'properties': {'OBJECTID': 2,\n",
      "                              'Shape__Length': 0.232859019406969,\n",
      "                              'id': 1},\n",
      "               'type': 'Feature'},\n",
      "              {'geometry': {'coordinates': [[-78.6761262356976,\n",
      "                                             35.9028225091032],\n",
      "                                            [-78.7317445218304,\n",
      "                                             35.864992443334],\n",
      "                                            [-78.6919190823773,\n",
      "                                             35.8505232315841]],\n",
      "                            'type': 'LineString'},\n",
      "               'properties': {'OBJECTID': 3,\n",
      "                              'Shape__Length': 0.109636900894782,\n",
      "                              'id': None},\n",
      "               'type': 'Feature'}],\n",
      " 'type': 'FeatureCollection'}\n"
     ]
    }
   ],
   "source": [
    "geojson_line_repair = copy.deepcopy(geojson_line)\n",
    "for f in geojson_line_repair['features']:\n",
    "    f['geometry']['coordinates'] = f['geometry']['coordinates'][0]\n",
    "\n",
    "pprint.pprint(geojson_line_repair)"
   ]
  },
  {
   "cell_type": "code",
   "execution_count": 19,
   "metadata": {},
   "outputs": [
    {
     "data": {
      "text/html": [
       "<div style=\"width:100%;\"><div style=\"position:relative;width:100%;height:0;padding-bottom:60%;\"><iframe src=\"data:text/html;charset=utf-8;base64,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\" style=\"position:absolute;width:100%;height:100%;left:0;top:0;border:none !important;\" allowfullscreen webkitallowfullscreen mozallowfullscreen></iframe></div></div>"
      ],
      "text/plain": [
       "<folium.folium.Map at 0x28b04a52b00>"
      ]
     },
     "execution_count": 19,
     "metadata": {},
     "output_type": "execute_result"
    }
   ],
   "source": [
    "geojson_map_line_repair = folium.Map([35.779591, -78.638176], zoom_start = 11)\n",
    "folium.GeoJson(geojson_line_repair).add_to(geojson_map_line_repair)\n",
    "geojson_map_line_repair"
   ]
  },
  {
   "cell_type": "markdown",
   "metadata": {},
   "source": [
    "OK, that looks good. Now let's see if the data are valid."
   ]
  },
  {
   "cell_type": "code",
   "execution_count": 20,
   "metadata": {},
   "outputs": [
    {
     "name": "stdout",
     "output_type": "stream",
     "text": [
      "True\n"
     ]
    }
   ],
   "source": [
    "pprint.pprint(geojson_validity(geojson_line_repair))"
   ]
  },
  {
   "cell_type": "markdown",
   "metadata": {},
   "source": [
    "It appears that they are. Hooray! Let's dump the output to copy and paste into GeoJSONLint:"
   ]
  },
  {
   "cell_type": "code",
   "execution_count": 21,
   "metadata": {},
   "outputs": [
    {
     "name": "stdout",
     "output_type": "stream",
     "text": [
      "{\"type\": \"FeatureCollection\", \"features\": [{\"type\": \"Feature\", \"geometry\": {\"type\": \"LineString\", \"coordinates\": [[-78.8271882474162, 35.8700004012947], [-78.7907960355022, 35.8444008470209], [-78.7509705960491, 35.8260308576235], [-78.7358643948772, 35.8148954608556], [-78.7029054105023, 35.8032016132432], [-78.6891725003461, 35.8037585021739], [-78.6548402249555, 35.8093271767413], [-78.6280610501508, 35.8199065827], [-78.616388076518, 35.826587586458]]}, \"properties\": {\"OBJECTID\": 2, \"id\": 1, \"Shape__Length\": 0.232859019406969, \"style\": {}, \"highlight\": {}}}, {\"type\": \"Feature\", \"geometry\": {\"type\": \"LineString\", \"coordinates\": [[-78.6761262356976, 35.9028225091032], [-78.7317445218304, 35.864992443334], [-78.6919190823773, 35.8505232315841]]}, \"properties\": {\"OBJECTID\": 3, \"id\": null, \"Shape__Length\": 0.109636900894782, \"style\": {}, \"highlight\": {}}}]}\n"
     ]
    }
   ],
   "source": [
    "print(geojson.dumps(geojson_line_repair))"
   ]
  },
  {
   "cell_type": "markdown",
   "metadata": {},
   "source": [
    "This should be evaluated as valid!\n",
    "\n",
    "It appears there may be a bug in the Python API that is formatting LineString geometries as MultiLineString geometries when using the `.to_geojson` method. "
   ]
  }
 ],
 "metadata": {
  "kernelspec": {
   "display_name": "Python 3",
   "language": "python",
   "name": "python3"
  },
  "language_info": {
   "codemirror_mode": {
    "name": "ipython",
    "version": 3
   },
   "file_extension": ".py",
   "mimetype": "text/x-python",
   "name": "python",
   "nbconvert_exporter": "python",
   "pygments_lexer": "ipython3",
   "version": "3.6.6"
  }
 },
 "nbformat": 4,
 "nbformat_minor": 2
}
